{
 "cells": [
  {
   "cell_type": "code",
   "execution_count": 8,
   "metadata": {},
   "outputs": [],
   "source": [
    "import numpy as np\n",
    "import pylab as plt\n",
    "import ephem\n",
    "import datetime"
   ]
  },
  {
   "cell_type": "code",
   "execution_count": 9,
   "metadata": {
    "collapsed": true
   },
   "outputs": [],
   "source": [
    "oxford = ephem.Observer()\n",
    "oxford.lat = np.deg2rad(51.75)\n",
    "oxford.long = np.deg2rad(-1.259)\n",
    "oxford.date = datetime.datetime.now()"
   ]
  },
  {
   "cell_type": "code",
   "execution_count": 10,
   "metadata": {
    "collapsed": true
   },
   "outputs": [],
   "source": [
    "L1 = 'Satellite'\n",
    "L2 = '1 25544U 98067A   19091.54921296  .00002326  00000-0  44830-4 0  9994'\n",
    "L3 = '2 25544  51.6429  22.1968 0002430 134.4838 212.9945 15.52470701163348'\n",
    "satellite = ephem.readtle(L1,L2,L3)                                               #TLE comman"
   ]
  },
  {
   "cell_type": "code",
   "execution_count": 15,
   "metadata": {},
   "outputs": [
    {
     "name": "stdout",
     "output_type": "stream",
     "text": [
      "-177:20:20.7 -9:02:28.5\n"
     ]
    }
   ],
   "source": [
    "satellite.compute('2019/04/02')                              #compute satellites position at date entered in ''\n",
    "print('%s %s' % (satellite.sublong, satellite.sublat))       #prints position of satellite in terms of longitude and latitude"
   ]
  },
  {
   "cell_type": "code",
   "execution_count": 16,
   "metadata": {
    "collapsed": true
   },
   "outputs": [],
   "source": [
    "time = datetime.datetime.replace(datetime.datetime.now(), hour=0)               #calculates new time at new position in real time\n",
    "dt  = [time + datetime.timedelta(minutes=1.04*x) for x in range(0, 24*4)]       #calculates the change in time and the change in amount the satellite moves in range of time entered"
   ]
  },
  {
   "cell_type": "code",
   "execution_count": 17,
   "metadata": {},
   "outputs": [
    {
     "ename": "ValueError",
     "evalue": "TLE elements are valid for a few weeks around their epoch, but you are asking about a date 540 days from the epoch",
     "output_type": "error",
     "traceback": [
      "\u001b[0;31m---------------------------------------------------------------------------\u001b[0m",
      "\u001b[0;31mValueError\u001b[0m                                Traceback (most recent call last)",
      "\u001b[0;32m<ipython-input-17-912e8ef724f2>\u001b[0m in \u001b[0;36m<module>\u001b[0;34m()\u001b[0m\n\u001b[1;32m      4\u001b[0m \u001b[0;32mfor\u001b[0m \u001b[0mdate\u001b[0m \u001b[0;32min\u001b[0m \u001b[0mdt\u001b[0m\u001b[0;34m:\u001b[0m                                              \u001b[0;31m#for loop appending the new altitude and azimuthal angle\u001b[0m\u001b[0;34m\u001b[0m\u001b[0m\n\u001b[1;32m      5\u001b[0m     \u001b[0moxford\u001b[0m\u001b[0;34m.\u001b[0m\u001b[0mdate\u001b[0m \u001b[0;34m=\u001b[0m \u001b[0mdate\u001b[0m\u001b[0;34m\u001b[0m\u001b[0m\n\u001b[0;32m----> 6\u001b[0;31m     \u001b[0msatellite\u001b[0m\u001b[0;34m.\u001b[0m\u001b[0mcompute\u001b[0m\u001b[0;34m(\u001b[0m\u001b[0moxford\u001b[0m\u001b[0;34m)\u001b[0m\u001b[0;34m\u001b[0m\u001b[0m\n\u001b[0m\u001b[1;32m      7\u001b[0m     \u001b[0msat_altit\u001b[0m\u001b[0;34m.\u001b[0m\u001b[0mappend\u001b[0m\u001b[0;34m(\u001b[0m\u001b[0mnp\u001b[0m\u001b[0;34m.\u001b[0m\u001b[0mrad2deg\u001b[0m\u001b[0;34m(\u001b[0m\u001b[0msatellite\u001b[0m\u001b[0;34m.\u001b[0m\u001b[0malt\u001b[0m\u001b[0;34m)\u001b[0m\u001b[0;34m)\u001b[0m              \u001b[0;31m#appending altitude to satellite_alt list\u001b[0m\u001b[0;34m\u001b[0m\u001b[0m\n\u001b[1;32m      8\u001b[0m     \u001b[0msat_azim\u001b[0m\u001b[0;34m.\u001b[0m\u001b[0mappend\u001b[0m\u001b[0;34m(\u001b[0m\u001b[0mnp\u001b[0m\u001b[0;34m.\u001b[0m\u001b[0mrad2deg\u001b[0m\u001b[0;34m(\u001b[0m\u001b[0msatellite\u001b[0m\u001b[0;34m.\u001b[0m\u001b[0maz\u001b[0m\u001b[0;34m)\u001b[0m\u001b[0;34m)\u001b[0m                \u001b[0;31m#appending azimuthal angle to satellite_az list\u001b[0m\u001b[0;34m\u001b[0m\u001b[0m\n",
      "\u001b[0;31mValueError\u001b[0m: TLE elements are valid for a few weeks around their epoch, but you are asking about a date 540 days from the epoch"
     ]
    }
   ],
   "source": [
    "sat_altit = []\n",
    "sat_azim = []\n",
    "#§§§§\n",
    "for date in dt:                                              #for loop appending the new altitude and azimuthal angle \n",
    "    oxford.date = date\n",
    "    satellite.compute(oxford)\n",
    "    sat_altit.append(np.rad2deg(satellite.alt))              #appending altitude to satellite_alt list\n",
    "    sat_azim.append(np.rad2deg(satellite.az))                #appending azimuthal angle to satellite_az list"
   ]
  },
  {
   "cell_type": "code",
   "execution_count": null,
   "metadata": {},
   "outputs": [],
   "source": [
    "plt.polar(np.deg2rad(sat_azim), 90-np.array(sat_altit))\n",
    "plt.ylim(0,170)                                              #shows angles 0 to 170 degrees\n",
    "plt.show()                                                   #plots graph seen below"
   ]
  },
  {
   "cell_type": "code",
   "execution_count": null,
   "metadata": {
    "collapsed": true
   },
   "outputs": [],
   "source": []
  },
  {
   "cell_type": "code",
   "execution_count": null,
   "metadata": {
    "collapsed": true
   },
   "outputs": [],
   "source": []
  }
 ],
 "metadata": {
  "kernelspec": {
   "display_name": "Python 3",
   "language": "python",
   "name": "python3"
  },
  "language_info": {
   "codemirror_mode": {
    "name": "ipython",
    "version": 3
   },
   "file_extension": ".py",
   "mimetype": "text/x-python",
   "name": "python",
   "nbconvert_exporter": "python",
   "pygments_lexer": "ipython3",
   "version": "3.6.3"
  }
 },
 "nbformat": 4,
 "nbformat_minor": 2
}
